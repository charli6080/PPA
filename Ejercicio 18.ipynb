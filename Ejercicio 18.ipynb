{
  "cells": [
    {
      "cell_type": "markdown",
      "metadata": {
        "id": "-o30GW50Pgla"
      },
      "source": [
        "#Teorema de Bayes para estimación de parámetros"
      ]
    },
    {
      "cell_type": "markdown",
      "metadata": {
        "id": "8U_IpElpEkKj"
      },
      "source": [
        "\n",
        "\n",
        "Se tiene una moneda para la cual no se conoce la probabilidad $p$ de que salga cara. A priori podemos considerar a $p$ como una variable aleatoria que toma valores entre $0$ y $1$, con una distribución $P(p)$.  Por ejemplo, si no tenemos ninguna expectativa sobre el valor de $p$, $P(p)$ podría ser una distribución uniforme.\n",
        "\n",
        "Realizamos $M$ tiradas de la moneda y obtenemos $C$ caras y $M-C$ cecas. Queremos actualizar nuestras expectativas sobre el valor de $p$ usando esos datos y el teorema de Bayes\n",
        "$$\n",
        "P(p | \\mathcal{D}) = \\frac{P(\\mathcal{D} | p) P(p)}{P(\\mathcal{D})}\n",
        "$$\n",
        "\n",
        "donde $P(p|\\mathcal{D})$ es la distribución de $p$ actualizada por el resultado de las tiradas $\\mathcal{D}$ y $P(\\mathcal{D}|p)$ es la probabilidad del resultado $\\mathcal{D}$ dado un valor de $p$. Aunque no conocemos $P(\\mathcal{D})$, podemos tomar su valor de manera de que $P(p|\\mathcal{D})$ quede normalizada.\n",
        "\n",
        "- Seleccionar para $p$ la distribución beta:\n",
        "$$\n",
        "   P(p)=\\text{Beta}(p; \\alpha, \\beta) = \\frac{p^{\\alpha-1} (1-p)^{\\beta-1}}{B(\\alpha, \\beta)}\n",
        "$$\n",
        "donde $B(\\alpha,\\beta)$ es una normalización que se puede escribir en términos de la función gama: $B(\\alpha,\\beta)=\\frac{\\Gamma(\\alpha)\\Gamma(\\beta)}{\\Gamma(\\alpha+\\beta)}$.\n",
        "\n",
        "- Demostrar que la distribución de $p$ actualizada por la medición es una distribución $\\text{Beta}(p;\\alpha+C, \\beta + M-C )$.\n",
        "\n",
        "- Comenzar con una distribución beta para $p$ (por ejemplo uniforme $\\alpha=\\beta=1$) y analizar cómo se modifica al incorporar el resultado de 20 tiradas de una moneda.\n",
        "\n",
        "- Explorar diferentes elecciones de $\\alpha$ y $\\beta$ para la distribución inicial esperada."
      ]
    },
    {
      "cell_type": "markdown",
      "metadata": {},
      "source": [
        "### Analizo como se modifica la distribución para 20 tiradas"
      ]
    },
    {
      "cell_type": "code",
      "execution_count": 7,
      "metadata": {
        "colab": {
          "base_uri": "https://localhost:8080/",
          "height": 542
        },
        "id": "tcdWTxRHDPFb",
        "outputId": "97d1ab54-f624-46ca-f175-de0194c82e0f"
      },
      "outputs": [],
      "source": [
        "import numpy as np\n",
        "import matplotlib.pyplot as plt\n",
        "from scipy.stats import beta\n",
        "from math import gamma\n",
        "\n",
        "# parámetros iniciales\n",
        "alfa_inicial = 1.0\n",
        "beta_inicial = 1.0\n",
        "\n",
        "# Resultados de las tiradas\n",
        "Caras = [0,1,2,3,4,5,6,7,8,9,10,11,12,13,14,15,16,17,18,19,20]\n",
        "labels = [\"0 caras\",\"1 cara\",\"2 caras\",\"3 caras\",\"4 caras\",\"5 caras\",\"6 caras\",\"7 caras\",\"8 caras\",\"9 caras\",\"10 caras\",\"11 caras\",\"12 caras\",\"13 caras\",\"14 caras\",\"15 caras\",\"16 caras\",\"17 caras\",\"18 caras\",\"19 caras\",\"20 caras\"]\n",
        "Cecas = [20,19,18,17,16,15,14,13,12,11,10,9,8,7,6,5,4,3,2,1,0]\n",
        "\n",
        "def betadistribution(p,alfa_inicial,beta_inicial):\n",
        "    B=np.array(gamma(alfa_inicial)*gamma(beta_inicial)/gamma(alfa_inicial+beta_inicial))\n",
        "    return p**(alfa_inicial-1)*(1-p)**(beta_inicial-1)/B\n",
        "\n",
        "p = np.linspace(0, 1, 100)\n",
        "\n",
        "plt.plot(p,betadistribution(p,alfa_inicial,beta_inicial), label=\"Incial\")\n",
        "\n",
        "for i in range(21):\n",
        "    new_alfa=alfa_inicial+Caras[i]\n",
        "    new_beta=beta_inicial+Cecas[i]\n",
        "    plt.plot(p,beta.pdf(p,new_alfa,new_beta, loc=0, scale=1), label=labels[i])\n",
        "\n",
        "plt.title(r'Distribución de probabilidad de $p$ al conocer el resultado de 20 tiradas de la moneda', fontsize=16)\n",
        "plt.xlabel('p', fontsize=16)\n",
        "plt.ylabel(r'$P(p|\\mathcal{D})$', fontsize=16)\n",
        "plt.legend(fontsize=16, bbox_to_anchor=(1, 1), loc='upper left')\n",
        "plt.grid(True)\n",
        "plt.xticks(fontsize=14)\n",
        "plt.yticks(fontsize=14)\n",
        "\n",
        "plt.show()\n"
      ]
    },
    {
      "cell_type": "markdown",
      "metadata": {},
      "source": [
        "### Analizo diferentes alfas y betas inciales"
      ]
    },
    {
      "cell_type": "code",
      "execution_count": 6,
      "metadata": {},
      "outputs": [],
      "source": [
        "# Resultados de las tiradas\n",
        "Caras = [2,10,15]\n",
        "labels = [\"2 caras\",\"10 caras\",\"15 caras\"]\n",
        "Cecas = [18,10,5]\n",
        "# parámetros iniciales\n",
        "alfa = [1,1.5,2,2.5,3,3.5,4,4.5]\n",
        "beta = 2\n",
        "fig, axes = plt.subplots(nrows=2, ncols=len(Caras), figsize=(16, 16), sharex=True, sharey=True, gridspec_kw={'hspace': 0.1, 'wspace': 0.1})\n",
        "\n",
        "# Primer bucle para la primera fila\n",
        "for j in range(len(Caras)):\n",
        "    ax1 = axes[0, j]  # Usar el subplot de la primera fila\n",
        "    for i in range(len(alfa)):\n",
        "        ax1.set_title(labels[j], fontsize=20)\n",
        "        ax1.plot(p, betadistribution(p, alfa[i], beta), label=f'Alfa = {alfa[i]}')\n",
        "        #ax1.set_xticklabels([])\n",
        "    ax1.grid(True)\n",
        "    if j == 0:\n",
        "        ax1.set_ylabel(r'$P(p|\\mathcal{D})$', fontsize=14)\n",
        "    if j == len(Caras) - 1:\n",
        "        ax1.legend(bbox_to_anchor=(1, 1), loc=\"upper left\", fontsize=14)\n",
        "\n",
        "# Segundo bucle para la segunda fila\n",
        "for j in range(len(Caras)):\n",
        "    ax2 = axes[1, j]  # Usar el subplot de la segunda fila\n",
        "    for i in range(len(alfa)):\n",
        "        new_alfa = alfa[i] + Caras[j]\n",
        "        new_beta = beta + Cecas[j]\n",
        "        ax2.plot(p, betadistribution(p, new_alfa, new_beta), label=f'Alfa = {alfa[i]}')\n",
        "    ax2.set_xticks([0, 0.2, 0.4, 0.6, 0.8, 1])\n",
        "    ax2.set_xlabel('$p$', fontsize=14)\n",
        "    ax2.grid(True)\n",
        "    if j == 0:\n",
        "        ax2.set_ylabel(r'$P(p|\\mathcal{D})$', fontsize=14)\n",
        "    if j == len(Caras) - 1:\n",
        "        ax2.legend(bbox_to_anchor=(1, 1), loc=\"upper left\", fontsize=14)\n",
        "    if i == 0:\n",
        "        ax2.set_xlabel('$p$', fontsize=14)\n",
        "    \n",
        "\n",
        "plt.show()\n"
      ]
    }
  ],
  "metadata": {
    "colab": {
      "provenance": []
    },
    "kernelspec": {
      "display_name": "Python 3",
      "name": "python3"
    },
    "language_info": {
      "codemirror_mode": {
        "name": "ipython",
        "version": 3
      },
      "file_extension": ".py",
      "mimetype": "text/x-python",
      "name": "python",
      "nbconvert_exporter": "python",
      "pygments_lexer": "ipython3",
      "version": "3.12.4"
    }
  },
  "nbformat": 4,
  "nbformat_minor": 0
}
